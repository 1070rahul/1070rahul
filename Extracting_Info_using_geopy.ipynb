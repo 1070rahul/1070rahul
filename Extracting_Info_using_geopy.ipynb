{
  "nbformat": 4,
  "nbformat_minor": 0,
  "metadata": {
    "colab": {
      "provenance": [],
      "authorship_tag": "ABX9TyN2H2SxARuQjUmFNptHh9GZ",
      "include_colab_link": true
    },
    "kernelspec": {
      "name": "python3",
      "display_name": "Python 3"
    },
    "language_info": {
      "name": "python"
    }
  },
  "cells": [
    {
      "cell_type": "markdown",
      "metadata": {
        "id": "view-in-github",
        "colab_type": "text"
      },
      "source": [
        "<a href=\"https://colab.research.google.com/github/1070rahul/1070rahul/blob/main/Extracting_Info_using_geopy.ipynb\" target=\"_parent\"><img src=\"https://colab.research.google.com/assets/colab-badge.svg\" alt=\"Open In Colab\"/></a>"
      ]
    },
    {
      "cell_type": "markdown",
      "source": [
        "# Aim:\n",
        "## To extract the names of countries, states, districts from a given excel file having single column using geopy."
      ],
      "metadata": {
        "id": "qfn8v0EisuLz"
      }
    },
    {
      "cell_type": "code",
      "source": [
        "!pip install pandas geopy"
      ],
      "metadata": {
        "id": "39ucj8v8Ecgk",
        "colab": {
          "base_uri": "https://localhost:8080/"
        },
        "outputId": "02950e84-9025-497c-9a4f-3a2e41d8120d"
      },
      "execution_count": null,
      "outputs": [
        {
          "output_type": "stream",
          "name": "stdout",
          "text": [
            "Requirement already satisfied: pandas in /usr/local/lib/python3.10/dist-packages (2.0.3)\n",
            "Requirement already satisfied: geopy in /usr/local/lib/python3.10/dist-packages (2.3.0)\n",
            "Requirement already satisfied: python-dateutil>=2.8.2 in /usr/local/lib/python3.10/dist-packages (from pandas) (2.8.2)\n",
            "Requirement already satisfied: pytz>=2020.1 in /usr/local/lib/python3.10/dist-packages (from pandas) (2023.4)\n",
            "Requirement already satisfied: tzdata>=2022.1 in /usr/local/lib/python3.10/dist-packages (from pandas) (2024.1)\n",
            "Requirement already satisfied: numpy>=1.21.0 in /usr/local/lib/python3.10/dist-packages (from pandas) (1.25.2)\n",
            "Requirement already satisfied: geographiclib<3,>=1.52 in /usr/local/lib/python3.10/dist-packages (from geopy) (2.0)\n",
            "Requirement already satisfied: six>=1.5 in /usr/local/lib/python3.10/dist-packages (from python-dateutil>=2.8.2->pandas) (1.16.0)\n"
          ]
        }
      ]
    },
    {
      "cell_type": "code",
      "source": [
        "import pandas as pd\n",
        "from geopy.geocoders import Nominatim\n",
        "from time import sleep\n",
        "\n",
        "# Initialize geolocator\n",
        "geolocator = Nominatim(user_agent=\"geoapi\")\n",
        "\n",
        "# Read the Excel file\n",
        "df = pd.read_excel('/content/city_excel.xlsx')\n",
        "\n",
        "# Create new columns for Country, State, and District\n",
        "df['Country'] = ''\n",
        "df['State'] = ''\n",
        "df['District'] = ''\n",
        "\n",
        "# Creating a Function to geocode and extract information\n",
        "def geocode_and_extract_info(name):\n",
        "    location = geolocator.geocode(name)\n",
        "    if location:\n",
        "        # Reverse geocode to get detailed information\n",
        "        reverse_location = geolocator.reverse((location.latitude, location.longitude), exactly_one=True)\n",
        "        address = reverse_location.raw['address']\n",
        "\n",
        "        # Extract country, state, and district\n",
        "        country = address.get('country', '')\n",
        "        state = address.get('state', '')\n",
        "        district = address.get('county', '') or address.get('district', '')\n",
        "\n",
        "        return country, state, district\n",
        "    else:\n",
        "        return '', '', ''\n",
        "\n",
        "# Applying function to each row and update columns\n",
        "for index, row in df.iterrows():\n",
        "    country, state, district = geocode_and_extract_info(row['citymain_'])\n",
        "    df.at[index, 'Country'] = country\n",
        "    df.at[index, 'State'] = state\n",
        "    df.at[index, 'District'] = district\n",
        "\n",
        "    # Sleep for a short interval to avoid rate limiting\n",
        "    sleep(1)  # we can Adjust the sleep time as needed\n",
        "\n",
        "# Saving updated DataFrame to a new Excel file\n",
        "df.to_excel('updated_file.xlsx', index=False)\n"
      ],
      "metadata": {
        "id": "fT5Z93LwEcly",
        "colab": {
          "base_uri": "https://localhost:8080/"
        },
        "outputId": "cdd6194d-a286-4699-84ad-f8ece108d916"
      },
      "execution_count": null,
      "outputs": [
        {
          "output_type": "stream",
          "name": "stderr",
          "text": [
            "WARNING:urllib3.connectionpool:Retrying (Retry(total=1, connect=None, read=None, redirect=None, status=None)) after connection broken by 'ReadTimeoutError(\"HTTPSConnectionPool(host='nominatim.openstreetmap.org', port=443): Read timed out. (read timeout=1)\")': /reverse?lat=8.1880471&lon=77.4290492&format=json&addressdetails=1\n",
            "WARNING:urllib3.connectionpool:Retrying (Retry(total=1, connect=None, read=None, redirect=None, status=None)) after connection broken by 'ReadTimeoutError(\"HTTPSConnectionPool(host='nominatim.openstreetmap.org', port=443): Read timed out. (read timeout=1)\")': /reverse?lat=28.0596936&lon=76.57661675062855&format=json&addressdetails=1\n",
            "WARNING:urllib3.connectionpool:Retrying (Retry(total=1, connect=None, read=None, redirect=None, status=None)) after connection broken by 'ReadTimeoutError(\"HTTPSConnectionPool(host='nominatim.openstreetmap.org', port=443): Read timed out. (read timeout=1)\")': /search?q=krishna+district&format=json&limit=1\n",
            "WARNING:urllib3.connectionpool:Retrying (Retry(total=1, connect=None, read=None, redirect=None, status=None)) after connection broken by 'ReadTimeoutError(\"HTTPSConnectionPool(host='nominatim.openstreetmap.org', port=443): Read timed out. (read timeout=1)\")': /reverse?lat=20.718174949999998&lon=70.93238341010638&format=json&addressdetails=1\n"
          ]
        }
      ]
    },
    {
      "cell_type": "markdown",
      "source": [
        "# Code without using GEOPY"
      ],
      "metadata": {
        "id": "rH1tYeZXlC6P"
      }
    },
    {
      "cell_type": "code",
      "source": [
        "import pandas as pd"
      ],
      "metadata": {
        "id": "R2582A__EcvD"
      },
      "execution_count": null,
      "outputs": []
    },
    {
      "cell_type": "code",
      "source": [
        "# load the excel file\n",
        "df = pd.read_excel('/content/city_excel.xlsx')"
      ],
      "metadata": {
        "id": "g99jbYxBfJNp"
      },
      "execution_count": null,
      "outputs": []
    },
    {
      "cell_type": "code",
      "source": [
        "# define lists to store countries, states, and districts\n",
        "countries = []\n",
        "states = []\n",
        "districts = []"
      ],
      "metadata": {
        "id": "pGiXK2C3fPde"
      },
      "execution_count": null,
      "outputs": []
    },
    {
      "cell_type": "code",
      "source": [
        "# create a function to classify the names\n",
        "def classify_names(name):\n",
        "  # list of known countries\n",
        "    known_countries = ['saudi arabia', 'qatar', 'indonesia', 'iraq', 'dubai/ uae',\n",
        "                       'nigeria', 'south korea', 'kuwait', 'south africa', 'united states (us)',\n",
        "                       'muscat', 'japan', 'thailand', 'oman', 'singapore', 'netherlands',\n",
        "                       'australia', 'seychelles', 'zambia', 'malaysia', 'germany', 'tanzania',\n",
        "                       'doha', 'nepal', 'maldives', 'myanmar (burma)', 'mozambique', 'india',\n",
        "                       'bahrain', 'sweden', 'ghana', 'bangladesh', 'canada', 'kazakhstan',\n",
        "                       'congo', 'uganda', 'sudan', 'china']\n",
        "\n",
        "  # list of known states\n",
        "    known_states = ['andhra pradesh', 'arunachal pradesh', 'assam', 'bihar',\n",
        "                    'chhattisgarh', 'goa', 'gujarat', 'haryana', 'himachal pradesh',\n",
        "                    'jammu and kashmir', 'jharkhand', 'karnataka', 'kerala', 'madhya pradesh',\n",
        "                    'maharashtra', 'manipur', 'meghalaya', 'mizoram', 'nagaland', 'odisha',\n",
        "                    'punjab', 'rajasthan', 'sikkim', 'tamil nadu', 'telangana', 'tripura',\n",
        "                    'uttar pradesh', 'uttarakhand', 'west bengal', 'delhi', 'pondicherry']\n",
        "\n",
        "    # check if the name is a known country\n",
        "    if name.lower() in known_countries:\n",
        "      countries.append(name)\n",
        "      states.append(None)\n",
        "      districts.append(None)\n",
        "\n",
        "    # check if the name is a known state or not\n",
        "    elif name.lower() in known_states:\n",
        "      countries.append(None)\n",
        "      states.append(name)\n",
        "      districts.append(None)\n",
        "    # otherwise assume it a district\n",
        "    else:\n",
        "      countries.append(None)\n",
        "      states.append(None)\n",
        "      districts.append(name)\n",
        "\n",
        "# apply the function to each name in the column\n",
        "df['citymain_'].apply(classify_names)\n",
        "\n",
        "# create new columns countries, states and districts\n",
        "df['Country'] = countries\n",
        "df['State'] = states\n",
        "df['District'] = districts\n",
        "\n",
        "# save the updated excel file\n",
        "df.to_excel('updated_city.xlsx', index = False)"
      ],
      "metadata": {
        "id": "u1oLxpMHfart"
      },
      "execution_count": null,
      "outputs": []
    },
    {
      "cell_type": "code",
      "source": [],
      "metadata": {
        "id": "aE-Sbdf0g97d"
      },
      "execution_count": null,
      "outputs": []
    }
  ]
}